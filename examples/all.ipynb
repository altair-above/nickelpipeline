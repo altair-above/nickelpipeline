{
 "cells": [
  {
   "cell_type": "code",
   "execution_count": null,
   "metadata": {},
   "outputs": [],
   "source": [
    "from nickelpipeline.pipelines.reduction import reduce_all\n",
    "from nickelpipeline.pipelines.astrometry import astrometry_all\n",
    "from nickelpipeline.pipelines.photometry import photometry_all\n",
    "from nickelpipeline.pipelines.final_calib import final_calib_all\n",
    "from nickelpipeline.convenience.graphs import plot_sources"
   ]
  },
  {
   "cell_type": "markdown",
   "metadata": {},
   "source": [
    "Initialize logger to see output of functions, setting verbosity level to 'DEBUG', 'INFO', 'WARNING', 'ERROR', or 'CRITICAL'. Logs are displayed wherever code is being run (terminal, console, etc.), and 'DEBUG' level logs are always saved to a .log file."
   ]
  },
  {
   "cell_type": "code",
   "execution_count": null,
   "metadata": {},
   "outputs": [],
   "source": [
    "import logging\n",
    "from nickelpipeline.convenience.log import adjust_global_logger\n",
    "adjust_global_logger('INFO', __name__)\n",
    "logger = logging.getLogger(__name__)"
   ]
  },
  {
   "cell_type": "markdown",
   "metadata": {},
   "source": [
    "To run the astrometry pipeline, you need to create an account on https://nova.astrometry.net/ and grab an API key. This is a randomly generated string tied to your user account; everything you do using this pipeline will be through your account on the Astrometry.net web service (e.g. all image uploads will show up on your web profile).\n",
    "\n",
    "Your key is available in the My Profile section of the dashboard."
   ]
  },
  {
   "cell_type": "code",
   "execution_count": null,
   "metadata": {},
   "outputs": [],
   "source": [
    "api_key = 'exampleapikey'"
   ]
  },
  {
   "cell_type": "markdown",
   "metadata": {},
   "source": [
    "Define directory where raw images are stored."
   ]
  },
  {
   "cell_type": "code",
   "execution_count": null,
   "metadata": {},
   "outputs": [],
   "source": [
    "rawdir = 'test_data_example/raw'"
   ]
  },
  {
   "cell_type": "markdown",
   "metadata": {},
   "source": [
    "Basic reduction"
   ]
  },
  {
   "cell_type": "code",
   "execution_count": null,
   "metadata": {},
   "outputs": [],
   "source": [
    "red_files = reduce_all(rawdir=rawdir, save_inters=True)\n",
    "reddir = red_files[0].parent.parent"
   ]
  },
  {
   "cell_type": "markdown",
   "metadata": {},
   "source": [
    "Astrometric calibration"
   ]
  },
  {
   "cell_type": "code",
   "execution_count": null,
   "metadata": {},
   "outputs": [],
   "source": [
    "astro_calib_files = astrometry_all(reddir, api_key)"
   ]
  },
  {
   "cell_type": "markdown",
   "metadata": {},
   "source": [
    "Photometric calibration"
   ]
  },
  {
   "cell_type": "code",
   "execution_count": null,
   "metadata": {},
   "outputs": [],
   "source": [
    "src_catalog_paths = photometry_all(reddir, group=False, plot_final=True,\n",
    "                                   plot_inters=False)"
   ]
  },
  {
   "cell_type": "markdown",
   "metadata": {},
   "source": [
    "Final calibration (convert pixel coordinates -> RA/Dec)"
   ]
  },
  {
   "cell_type": "code",
   "execution_count": null,
   "metadata": {},
   "outputs": [],
   "source": [
    "photodir = src_catalog_paths[0].parent.parent\n",
    "astrodir = astro_calib_files[0].parent\n",
    "astrophot_data_tables = final_calib_all(photodir, astrodir)"
   ]
  },
  {
   "cell_type": "markdown",
   "metadata": {},
   "source": [
    "Display images & annotate sources"
   ]
  },
  {
   "cell_type": "code",
   "execution_count": null,
   "metadata": {},
   "outputs": [],
   "source": [
    "for object, src_table_dict in astrophot_data_tables.items():\n",
    "    for file_key, src_table in src_table_dict.items():\n",
    "        plot_sources(src_table, given_fwhm=8.0, flux_name='flux_psf', scale=1.5)"
   ]
  }
 ],
 "metadata": {
  "kernelspec": {
   "display_name": ".venv",
   "language": "python",
   "name": "python3"
  },
  "language_info": {
   "codemirror_mode": {
    "name": "ipython",
    "version": 3
   },
   "file_extension": ".py",
   "mimetype": "text/x-python",
   "name": "python",
   "nbconvert_exporter": "python",
   "pygments_lexer": "ipython3",
   "version": "3.11.1"
  }
 },
 "nbformat": 4,
 "nbformat_minor": 2
}
